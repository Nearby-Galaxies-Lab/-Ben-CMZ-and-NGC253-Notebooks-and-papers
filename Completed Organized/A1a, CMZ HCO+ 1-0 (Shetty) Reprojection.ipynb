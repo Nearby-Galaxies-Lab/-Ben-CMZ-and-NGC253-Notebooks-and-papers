{
 "cells": [
  {
   "cell_type": "code",
   "execution_count": 1,
   "id": "0f5c8564-b572-4681-9045-0d4ddc6bd720",
   "metadata": {
    "tags": []
   },
   "outputs": [
    {
     "name": "stdout",
     "output_type": "stream",
     "text": [
      "/home/ben/miniconda3/bin/python\n",
      "3.8.5 (default, Sep  4 2020, 07:30:14) \n",
      "[GCC 7.3.0]\n",
      "sys.version_info(major=3, minor=8, micro=5, releaselevel='final', serial=0)\n",
      "astropy 5.1.dev153+gb740594dc\n",
      "reproject 0.8\n",
      "spectral_cube 0.6.1.dev22+g003ef16\n",
      "/home/ben/.local/lib/python3.8/site-packages/astrodendro/__init__.py\n"
     ]
    }
   ],
   "source": [
    "\n",
    "import sys\n",
    "print(sys.executable)\n",
    "print(sys.version)\n",
    "print(sys.version_info)\n",
    "\n",
    "import math\n",
    "import astropy\n",
    "print('astropy',astropy.__version__ )\n",
    "from spectral_cube import SpectralCube      # This is a handy package for working with 3D data cubes\n",
    "from spectral_cube import LazyMask\n",
    "from astropy.coordinates import SkyCoord\n",
    "from reproject import reproject_interp      \n",
    "from reproject.mosaicking import find_optimal_celestial_wcs \n",
    "import regions\n",
    "import reproject\n",
    "print('reproject',reproject.__version__)\n",
    "import spectral_cube\n",
    "print('spectral_cube',spectral_cube.__version__)\n",
    "import numpy as np                          \n",
    "import pylab                                \n",
    "import matplotlib \n",
    "import matplotlib.gridspec as gridspec                                                                                             \n",
    "import scipy\n",
    "import astropy.io.fits as fits                                                          \n",
    "from astropy.wcs import WCS                 \n",
    "from astropy import units as u              \n",
    "import pyspeckit as psk   \n",
    "import astrodendro\n",
    "import matplotlib.colors as colors\n",
    "from matplotlib import pyplot as plt\n",
    "# Suppress warnings we don't care about:\n",
    "import sys\n",
    "import gc\n",
    "\n",
    "if not sys.warnoptions:\n",
    "    import warnings\n",
    "    warnings.simplefilter(\"ignore\")\n",
    "%matplotlib inline\n",
    "from astrodendro.analysis import PPVStatistic\n",
    "\n",
    "\n",
    "print(astrodendro.__file__)\n",
    "\n",
    "from matplotlib.patches import Ellipse\n",
    "import copy\n",
    "from tqdm import tqdm\n",
    "import radio_beam\n",
    "\n",
    "from scipy.optimize import curve_fit\n",
    "from scipy.optimize import leastsq\n",
    "#%matplotlib widget\n",
    "from astropy.convolution import Gaussian1DKernel"
   ]
  },
  {
   "cell_type": "markdown",
   "id": "bb485da6-5fef-46d6-8ec0-a17cea616799",
   "metadata": {},
   "source": [
    "# Part 6: Reprojection"
   ]
  },
  {
   "cell_type": "code",
   "execution_count": 2,
   "id": "fd6317ac-8a3f-43fe-98f7-771055c01403",
   "metadata": {
    "tags": []
   },
   "outputs": [
    {
     "name": "stdout",
     "output_type": "stream",
     "text": [
      "done\n"
     ]
    }
   ],
   "source": [
    "#downsample only for the shetty result \n",
    "\n",
    "\n",
    "#HCO+ 1-0 from Mopra\n",
    "files = [\"CMZ_3mm_HCO+.fits\"]\n",
    "scWsc = SpectralCube.read(files[0])  \n",
    "sc = SpectralCube.read(files[0])  \n",
    "scWsc = sc.with_spectral_unit(u.km/u.s,velocity_convention=\"radio\") # Change units from Hz to km/s\n",
    "\n",
    "fwhm_factor = np.sqrt(8*np.log(2))\n",
    "scWsc.allow_huge_operations=True\n",
    "vel = np.arange(-300,300,3.6)*u.km/u.s    \n",
    "\n",
    "G_width = np.sqrt(abs(scWsc.header[\"CDELT3\"]**2-3.6**2))\n",
    "#scWsc = scWsc.spectral_smooth(Gaussian1DKernel(G_width/fwhm_factor))#Preserves information from the pixels lost in downsampling\n",
    "\n",
    "#scWsc = scWsc.spectral_interpolate(spectral_grid=vel) # Match velocities to -250 251 range \n",
    "scWsc = scWsc.downsample_axis(2,axis=0) # Match velocities to -250 251 range \n",
    "\n",
    "\n",
    "scWsc.write(\"CMZ_Whole_HCO+_Sh_J1_0.fits\",overwrite=True)\n",
    "\n",
    "del scWsc\n",
    "\n",
    "print(\"done\")         "
   ]
  },
  {
   "cell_type": "code",
   "execution_count": null,
   "id": "ddd8676c-e63a-426e-9d22-bc9e86a8a90b",
   "metadata": {},
   "outputs": [],
   "source": []
  }
 ],
 "metadata": {
  "kernelspec": {
   "display_name": "Python 3 (ipykernel)",
   "language": "python",
   "name": "python3"
  },
  "language_info": {
   "codemirror_mode": {
    "name": "ipython",
    "version": 3
   },
   "file_extension": ".py",
   "mimetype": "text/x-python",
   "name": "python",
   "nbconvert_exporter": "python",
   "pygments_lexer": "ipython3",
   "version": "3.8.5"
  }
 },
 "nbformat": 4,
 "nbformat_minor": 5
}
